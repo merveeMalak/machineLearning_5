{
  "cells": [
    {
      "cell_type": "markdown",
      "metadata": {
        "id": "YDkn--vjlx9I"
      },
      "source": [
        "# HW-5: Malware Classification (Due 5th January, 2023)\n",
        "\n",
        "**Instructions:**\n",
        "\n",
        "Suppose your company is struggling with a series of computer virus attacks for the past several months. The viruses were grouped into a few types with some effort. However, it takes a long time to sort out what kind of virus it is when been hit with. Thus, as a senior IT department member, you undertook a project to classify the virus as quickly as possible. You've been given a dataset of the features that may be handy (or not), and  also the associated virus type (target variable). \n",
        "\n",
        "You are supposed to try different classification methods and apply best practices we have seen in the lectures such as grid search, cross validation, regularization etc. To increase your grade you can add more elaboration such as using ensembling or exploiting feature selection/extraction techniques. **An evaluation rubric is provided.**\n",
        "\n",
        "Please prepare a python notebook that describes the steps, present the results as well as your comments. \n",
        "\n",
        "You can download the data (csv file) [here](https://drive.google.com/file/d/1yxbibzUU8bjOyChDVFPfQ4viLduYdk29/view?usp=sharing).\n"
      ]
    },
    {
      "cell_type": "code",
      "execution_count": 15,
      "metadata": {
        "id": "v-LH0QX57daw"
      },
      "outputs": [],
      "source": [
        "import pandas as pd\n",
        "import numpy as np\n",
        "import matplotlib.pyplot as plt\n",
        "from sklearn import datasets\n",
        "from sklearn.preprocessing import StandardScaler\n",
        "from sklearn.preprocessing import MinMaxScaler\n",
        "\n",
        "from sklearn.cluster import KMeans\n",
        "from sklearn.cluster import DBSCAN\n",
        "from sklearn.cluster import AgglomerativeClustering\n",
        "from sklearn.datasets import make_blobs\n",
        "from sklearn.metrics import accuracy_score\n",
        "from sklearn.metrics import v_measure_score, completeness_score, homogeneity_score\n",
        "from sklearn.model_selection import train_test_split\n",
        "\n",
        "from sklearn.feature_selection import mutual_info_classif\n",
        "from sklearn.feature_selection import GenericUnivariateSelect\n",
        "\n",
        "from sklearn.pipeline import Pipeline\n",
        "from sklearn.preprocessing import StandardScaler\n",
        "from sklearn.linear_model import LogisticRegression\n",
        "from sklearn.model_selection import GridSearchCV\n",
        "from sklearn.model_selection import cross_val_score\n",
        "from sklearn.svm import SVC\n",
        "from sklearn.ensemble import VotingClassifier\n",
        "from sklearn.preprocessing import LabelEncoder\n",
        "from sklearn.ensemble import BaggingClassifier\n",
        "from sklearn.tree import DecisionTreeClassifier\n",
        "from sklearn.ensemble import RandomForestClassifier\n",
        "from sklearn.feature_selection import RFE"
      ]
    },
    {
      "cell_type": "code",
      "execution_count": 3,
      "metadata": {
        "id": "qfUC4HjK7ebb"
      },
      "outputs": [],
      "source": [
        "df = pd.read_csv('hw5_data.csv', sep = ',')  #read file\n",
        "df.replace([np.inf, -np.inf], np.nan, inplace=True) #some values are inf and -inf, those values are changed with nan \n",
        "df.fillna(999, inplace=True)  #fill nan values with 999\n",
        "X = df.drop(['target'], axis=1)  # dataset\n",
        "y = df[['target']]  #target\n"
      ]
    },
    {
      "cell_type": "code",
      "execution_count": 4,
      "metadata": {
        "id": "jFUsuvxpaLUU",
        "colab": {
          "base_uri": "https://localhost:8080/"
        },
        "outputId": "cb86aca9-715c-4c9f-c83f-cc26850f3479"
      },
      "outputs": [
        {
          "output_type": "stream",
          "name": "stderr",
          "text": [
            "/usr/local/lib/python3.8/dist-packages/sklearn/utils/validation.py:993: DataConversionWarning: A column-vector y was passed when a 1d array was expected. Please change the shape of y to (n_samples, ), for example using ravel().\n",
            "  y = column_or_1d(y, warn=True)\n",
            "/usr/local/lib/python3.8/dist-packages/sklearn/utils/validation.py:993: DataConversionWarning: A column-vector y was passed when a 1d array was expected. Please change the shape of y to (n_samples, ), for example using ravel().\n",
            "  y = column_or_1d(y, warn=True)\n",
            "/usr/local/lib/python3.8/dist-packages/sklearn/utils/validation.py:993: DataConversionWarning: A column-vector y was passed when a 1d array was expected. Please change the shape of y to (n_samples, ), for example using ravel().\n",
            "  y = column_or_1d(y, warn=True)\n",
            "/usr/local/lib/python3.8/dist-packages/sklearn/utils/validation.py:993: DataConversionWarning: A column-vector y was passed when a 1d array was expected. Please change the shape of y to (n_samples, ), for example using ravel().\n",
            "  y = column_or_1d(y, warn=True)\n"
          ]
        }
      ],
      "source": [
        "#FEAUTRE SELECTION\n",
        "number_of_features = [50,100,200,400]  #number of features\n",
        "features_x_transform = []\n",
        "for i in number_of_features: #Datasets with 50, 100, 200 and 400 features are created\n",
        "  select = GenericUnivariateSelect(score_func=mutual_info_classif, mode=\"k_best\", param=i)  #Filter Method is used\n",
        "  select.fit(X,y)\n",
        "  features_x_transform.append(select.transform(X)) \n"
      ]
    },
    {
      "cell_type": "code",
      "source": [
        "#LOGISTIC REGRESSION\n",
        "ac_better = []\n",
        "param_grid = [ {'model__C': [10,100]} ]  #logistic regression parameters \"C\"\n",
        "\n",
        "le = LabelEncoder()\n",
        "y = le.fit_transform(y)\n",
        "\n",
        "for i in features_x_transform:\n",
        "  lg_reg = Pipeline([('scaling', StandardScaler()),  #first dataset is scaled\n",
        "                    ('model', LogisticRegression(solver='liblinear'))]) #then logistic regression model is fit\n",
        "\n",
        "\n",
        "  lg_results = GridSearchCV(estimator=lg_reg, param_grid=param_grid, scoring='accuracy', refit=True, cv=5)  #cross validation is made and best params is applied\n",
        "  lg_results = lg_results.fit(i, y)\n",
        "\n",
        "  score = cross_val_score(lg_results, i, y, cv=5).mean()\n",
        "  ac_better.append( score )\n",
        "  print(f\"top {len(i[1])} features have {score} score with Logistic Regression\")\n",
        "  print(f\"best params: {lg_results.best_params_}\")"
      ],
      "metadata": {
        "colab": {
          "base_uri": "https://localhost:8080/"
        },
        "id": "riTpnDRq35ot",
        "outputId": "52d90239-f86e-4df0-b19d-9065f3e67baf"
      },
      "execution_count": 4,
      "outputs": [
        {
          "output_type": "stream",
          "name": "stderr",
          "text": [
            "/usr/local/lib/python3.8/dist-packages/sklearn/preprocessing/_label.py:115: DataConversionWarning: A column-vector y was passed when a 1d array was expected. Please change the shape of y to (n_samples, ), for example using ravel().\n",
            "  y = column_or_1d(y, warn=True)\n"
          ]
        },
        {
          "output_type": "stream",
          "name": "stdout",
          "text": [
            "top 50 features have 0.6351279279279279 score with Logistic Regression\n",
            "best params: {'model__C': 100}\n",
            "top 100 features have 0.6189255255255255 score with Logistic Regression\n",
            "best params: {'model__C': 100}\n",
            "top 200 features have 0.6199243243243243 score with Logistic Regression\n",
            "best params: {'model__C': 10}\n",
            "top 400 features have 0.5841143143143144 score with Logistic Regression\n",
            "best params: {'model__C': 10}\n"
          ]
        }
      ]
    },
    {
      "cell_type": "code",
      "source": [
        "#plot logistic regression score\n",
        "plt.plot(number_of_features, ac_better)\n",
        "plt.xlabel('k')\n",
        "plt.ylabel('CV Accuracy')\n",
        "plt.title('Logistic Regression Score')"
      ],
      "metadata": {
        "colab": {
          "base_uri": "https://localhost:8080/",
          "height": 312
        },
        "id": "W0xlEU9cBan3",
        "outputId": "c6baf7a2-9745-417c-eb79-406fa53aad28"
      },
      "execution_count": 5,
      "outputs": [
        {
          "output_type": "execute_result",
          "data": {
            "text/plain": [
              "Text(0.5, 1.0, 'Logistic Regression Score')"
            ]
          },
          "metadata": {},
          "execution_count": 5
        },
        {
          "output_type": "display_data",
          "data": {
            "text/plain": [
              "<Figure size 432x288 with 1 Axes>"
            ],
            "image/png": "[encoded data removed]"
          },
          "metadata": {
            "needs_background": "light"
          }
        }
      ]
    },
    {
      "cell_type": "code",
      "source": [
        "#DECISION TREE CLASSIFIER\n",
        "tree_score = []\n",
        "#Decision tree parameters\n",
        "param_grid_clf = [\n",
        "  {'model__min_samples_leaf': [1, 5, 20],\n",
        "   'model__max_depth': [5, 15],\n",
        "   'model__criterion': ['gini', 'entropy']},\n",
        " ]\n",
        "\n",
        "for i in features_x_transform:\n",
        "  tree = Pipeline([('scaling', StandardScaler()),  #first dataset is scaled\n",
        "                    ('model', DecisionTreeClassifier())]) #then decision tree classifier model is fit\n",
        "\n",
        "\n",
        "  tree_result = GridSearchCV(estimator= tree, param_grid=param_grid_clf, scoring='accuracy', refit=True, cv=5)  #cross validation is made and best params is applied\n",
        "  tree_result = tree_result.fit(i, y)\n",
        "\n",
        "  score = cross_val_score(tree_result, i, y, cv=5).mean()\n",
        "  tree_score.append( score )\n",
        "  print(f\"top {len(i[1])} features have {score} score with Decision Tree Classifier\")\n",
        "  print(f\"best params: {tree_result.best_params_}\")"
      ],
      "metadata": {
        "colab": {
          "base_uri": "https://localhost:8080/"
        },
        "id": "Ky29DROFx6-u",
        "outputId": "e4269d59-584e-40b6-cd64-4b46b5a92917"
      },
      "execution_count": 6,
      "outputs": [
        {
          "output_type": "stream",
          "name": "stdout",
          "text": [
            "top 50 features have 0.8315685685685686 score with Decision Tree Classifier\n",
            "best params: {'model__criterion': 'entropy', 'model__max_depth': 15, 'model__min_samples_leaf': 20}\n",
            "top 100 features have 0.8407721721721721 score with Decision Tree Classifier\n",
            "best params: {'model__criterion': 'gini', 'model__max_depth': 15, 'model__min_samples_leaf': 20}\n",
            "top 200 features have 0.8371719719719719 score with Decision Tree Classifier\n",
            "best params: {'model__criterion': 'gini', 'model__max_depth': 15, 'model__min_samples_leaf': 5}\n",
            "top 400 features have 0.8575751751751751 score with Decision Tree Classifier\n",
            "best params: {'model__criterion': 'gini', 'model__max_depth': 15, 'model__min_samples_leaf': 20}\n"
          ]
        }
      ]
    },
    {
      "cell_type": "code",
      "source": [
        "#plot decision tree score\n",
        "plt.plot(number_of_features, tree_score)\n",
        "plt.xlabel('k')\n",
        "plt.ylabel('CV Accuracy')\n",
        "plt.title('Decision Tree Score')"
      ],
      "metadata": {
        "colab": {
          "base_uri": "https://localhost:8080/",
          "height": 312
        },
        "outputId": "d45aa483-2379-46af-9ce2-333678172e68",
        "id": "46Yq__864pgm"
      },
      "execution_count": 7,
      "outputs": [
        {
          "output_type": "execute_result",
          "data": {
            "text/plain": [
              "Text(0.5, 1.0, 'Decision Tree Score')"
            ]
          },
          "metadata": {},
          "execution_count": 7
        },
        {
          "output_type": "display_data",
          "data": {
            "text/plain": [
              "<Figure size 432x288 with 1 Axes>"
            ],
            "image/png": "[encoded data removed]"
          },
          "metadata": {
            "needs_background": "light"
          }
        }
      ]
    },
    {
      "cell_type": "code",
      "source": [
        "#SVM\n",
        "svm_score = []\n",
        "le = LabelEncoder()\n",
        "y = le.fit_transform(y)\n",
        "\n",
        "for i in features_x_transform:\n",
        "  svm = Pipeline([('scaling', StandardScaler()),  #first dataset is scaled\n",
        "                   ('model', SVC())]) #then svm  model is fit\n",
        "                   \n",
        "  svm_result = svm.fit(i, y)\n",
        "\n",
        "  score = cross_val_score(svm_result, i, y, cv=5).mean()\n",
        "  svm_score.append( score )\n",
        "  print(f\"top {len(i[1])} features have {score} score with SVM\")\n"
      ],
      "metadata": {
        "colab": {
          "base_uri": "https://localhost:8080/"
        },
        "id": "PKeDBBeJ4xaT",
        "outputId": "7417f9dc-9b0e-4ffb-c4eb-bb75c61c7f26"
      },
      "execution_count": 13,
      "outputs": [
        {
          "output_type": "stream",
          "name": "stdout",
          "text": [
            "top 50 features have 0.5955217217217217 score with SVM\n",
            "top 100 features have 0.5859193193193193 score with SVM\n",
            "top 200 features have 0.6031183183183183 score with SVM\n",
            "top 400 features have 0.6343269269269269 score with SVM\n"
          ]
        }
      ]
    },
    {
      "cell_type": "code",
      "source": [
        "#plot svm score\n",
        "plt.plot(number_of_features, svm_score)\n",
        "plt.xlabel('k')\n",
        "plt.ylabel('CV Accuracy')\n",
        "plt.title('SVM Score')"
      ],
      "metadata": {
        "colab": {
          "base_uri": "https://localhost:8080/",
          "height": 312
        },
        "id": "p6n_WP0y9oNz",
        "outputId": "5a5571fd-cf5d-4426-a8e4-14ce1ee39904"
      },
      "execution_count": 14,
      "outputs": [
        {
          "output_type": "execute_result",
          "data": {
            "text/plain": [
              "Text(0.5, 1.0, 'SVM Score')"
            ]
          },
          "metadata": {},
          "execution_count": 14
        },
        {
          "output_type": "display_data",
          "data": {
            "text/plain": [
              "<Figure size 432x288 with 1 Axes>"
            ],
            "image/png": "[encoded data removed]"
          },
          "metadata": {
            "needs_background": "light"
          }
        }
      ]
    },
    {
      "cell_type": "markdown",
      "source": [
        "We can see that the Decision tree is better than svm and logistic regression. Although different parameters changed the results, each classifier did not make a big difference in itself."
      ],
      "metadata": {
        "id": "N4d5dQRnBIPF"
      }
    },
    {
      "cell_type": "code",
      "source": [
        "#VOTING\n",
        "clf1 = LogisticRegression(penalty='l2', C=0.001, solver='lbfgs', random_state=0)\n",
        "clf2 = LogisticRegression(solver='liblinear')\n",
        "clf3 = DecisionTreeClassifier(max_depth=5, criterion='entropy', random_state=1)\n",
        "\n",
        "pipe1 = Pipeline([('scaler', StandardScaler()),('logreg1', clf1)])\n",
        "pipe2 = Pipeline([('scaler', StandardScaler()),('logreg2', clf2)])\n",
        "pipe3 = Pipeline([('scaler', StandardScaler()),('tree', clf3)])\n",
        "\n",
        "le = LabelEncoder()\n",
        "y = le.fit_transform(y)\n",
        "\n",
        "for i in features_x_transform:\n",
        "  print(f'Scores {len(i[1])} features')\n",
        "  X_train, X_test, y_train, y_test = train_test_split(i, y, test_size=0.33, random_state=1)\n",
        "\n",
        "  labs = ['Logistic Regression 1', 'Logistic Regression 2', 'Decision Tree']\n",
        "  clfs = [pipe1, pipe2, pipe3]\n",
        "  clfs = zip(labs, clfs)\n",
        "\n",
        "  for lab, clf in clfs:\n",
        "      scores = cross_val_score(estimator=clf, X=X_train, y=y_train, cv=10, scoring='accuracy')\n",
        "      print(f'{scores.mean():.2f} (+/- {scores.std():.2f}) [{lab}]')\n",
        "\n",
        "  ems = [('lr1', pipe1),('lr2', pipe2), ('tree', pipe3)]\n",
        "  clf = VotingClassifier(estimators= ems, weights=None, voting='soft')\n",
        "\n",
        "  scores = cross_val_score(estimator=clf, X=X_train, y=y_train, cv=5, scoring='accuracy')\n",
        "  print(f'{scores.mean():.3f} (+/- {scores.std():.3f}) [Ensemble]')\n",
        "  print(\"**************************************\")"
      ],
      "metadata": {
        "colab": {
          "base_uri": "https://localhost:8080/"
        },
        "id": "T3Jc1_twX_we",
        "outputId": "2b484861-9e3a-4bc6-b947-bb12c3dd0134"
      },
      "execution_count": null,
      "outputs": [
        {
          "output_type": "stream",
          "name": "stdout",
          "text": [
            "Scores 50 features\n",
            "0.55 (+/- 0.01) [Logistic Regression 1]\n",
            "0.63 (+/- 0.03) [Logistic Regression 2]\n",
            "0.79 (+/- 0.02) [Decision Tree]\n",
            "0.789 (+/- 0.020) [Ensemble]\n",
            "**************************************\n",
            "Scores 100 features\n",
            "0.55 (+/- 0.01) [Logistic Regression 1]\n",
            "0.62 (+/- 0.02) [Logistic Regression 2]\n",
            "0.81 (+/- 0.02) [Decision Tree]\n",
            "0.813 (+/- 0.022) [Ensemble]\n",
            "**************************************\n",
            "Scores 200 features\n",
            "0.56 (+/- 0.02) [Logistic Regression 1]\n",
            "0.61 (+/- 0.03) [Logistic Regression 2]\n",
            "0.81 (+/- 0.02) [Decision Tree]\n",
            "0.822 (+/- 0.016) [Ensemble]\n",
            "**************************************\n",
            "Scores 400 features\n",
            "0.59 (+/- 0.02) [Logistic Regression 1]\n",
            "0.56 (+/- 0.03) [Logistic Regression 2]\n",
            "0.82 (+/- 0.02) [Decision Tree]\n",
            "0.786 (+/- 0.021) [Ensemble]\n",
            "**************************************\n"
          ]
        }
      ]
    },
    {
      "cell_type": "markdown",
      "source": [
        "The decision tree classifier got a better result for each Feature number I tried. When we combined all of them with the Voting classifier, we obtained a less successful result than the decision tree, but a much better result than the logistic regression results."
      ],
      "metadata": {
        "id": "B-yMcfVj_hMk"
      }
    },
    {
      "cell_type": "code",
      "source": [
        "#BAGGING\n",
        "bag_cls = []\n",
        "bag_names = []\n",
        "\n",
        "param_grid_lr = [ {'base_estimator__C': [0.1,10],\n",
        "                   'base_estimator__max_iter': [5000,10000]}]\n",
        "bag_cls.append(GridSearchCV(BaggingClassifier(LogisticRegression(solver='liblinear', multi_class='auto'), n_estimators=20, max_samples=0.6, oob_score=True),\n",
        "                            param_grid = param_grid_lr))\n",
        "bag_names.append('Bag(LRx20)')\n",
        "\n",
        "param_grid_dt = [{\n",
        "    'base_estimator__max_depth' : [2,5],\n",
        "    }]\n",
        "bag_cls.append(GridSearchCV(BaggingClassifier(DecisionTreeClassifier(), n_estimators=20, max_samples=0.6, oob_score=True),\n",
        "                            param_grid = param_grid_dt))\n",
        "bag_names.append(\"Bag(DTx20)\")\n",
        "\n",
        "print(f'Scores {len(features_x_transform[0][1])} features')\n",
        "X_train, X_test, y_train, y_test = train_test_split(features_x_transform[0], y, test_size=0.33, random_state=1)\n",
        "for model, name in zip(bag_cls, bag_names):\n",
        "  model.fit(X_train, y_train)\n",
        "  scores = cross_val_score(estimator=model, X=X_train, y=y_train, cv=5, scoring='accuracy')\n",
        "  print(f'{scores.mean():.3f} (+/- {scores.std():.3f}) [{name}] -> best_params: {model.best_params_}')"
      ],
      "metadata": {
        "colab": {
          "base_uri": "https://localhost:8080/"
        },
        "id": "GRM0j-Gru3en",
        "outputId": "d9bf4591-da68-4413-d086-8af6cc4bbb44"
      },
      "execution_count": null,
      "outputs": [
        {
          "output_type": "stream",
          "name": "stdout",
          "text": [
            "Scores 50 features\n",
            "0.580 (+/- 0.011) [Bag(LRx20)] -> best_params: {'base_estimator__C': 10, 'base_estimator__max_iter': 5000}\n",
            "0.821 (+/- 0.018) [Bag(DTx20)] -> best_params: {'base_estimator__max_depth': 5}\n"
          ]
        }
      ]
    },
    {
      "cell_type": "markdown",
      "source": [
        "If we look at the logistic regression score and the decision tree score before making the bag, we can't see much difference in the results. I did not observe an increase as much as the voting."
      ],
      "metadata": {
        "id": "usKDE3KiAH11"
      }
    },
    {
      "cell_type": "code",
      "source": [
        "forest1 = Pipeline([('scaler', StandardScaler()),('forest1', RandomForestClassifier(n_estimators=100, oob_score=True))])\n",
        "forest2 = Pipeline([('scaler', StandardScaler()),('forest2', RandomForestClassifier(n_estimators=200, oob_score=True))])\n",
        "forest3 = Pipeline([('scaler', StandardScaler()),('forest3', RandomForestClassifier(n_estimators=400, oob_score=True))])\n",
        "for i in features_x_transform:\n",
        "  print(f'Scores {len(i[1])} features')\n",
        "  X_train, X_test, y_train, y_test = train_test_split(i, y, test_size=0.33, random_state=1)\n",
        "\n",
        "  labs = ['RandomForest,estimator:100', 'RandomForest,estimator:200', 'RandomForest,estimator:400']\n",
        "  clfs = [forest1, forest2, forest3]\n",
        "  clfs = zip(labs, clfs)\n",
        "\n",
        "  for lab, clf in clfs:\n",
        "      scores = cross_val_score(estimator=clf, X=X_train, y=y_train, cv=5, scoring='accuracy')\n",
        "      print(f'{scores.mean():.2f} (+/- {scores.std():.2f}) [{lab}]')\n",
        "\n",
        "  print(\"**************************************\")"
      ],
      "metadata": {
        "colab": {
          "base_uri": "https://localhost:8080/"
        },
        "id": "ifUBgSX-Bo1p",
        "outputId": "377137f4-39ea-4b59-cc8d-445e6443a7cf"
      },
      "execution_count": 16,
      "outputs": [
        {
          "output_type": "stream",
          "name": "stdout",
          "text": [
            "Scores 50 features\n",
            "0.89 (+/- 0.01) [RandomForest,estimator:100]\n",
            "0.89 (+/- 0.02) [RandomForest,estimator:200]\n",
            "0.89 (+/- 0.01) [RandomForest,estimator:400]\n",
            "**************************************\n",
            "Scores 100 features\n",
            "0.89 (+/- 0.02) [RandomForest,estimator:100]\n",
            "0.90 (+/- 0.01) [RandomForest,estimator:200]\n",
            "0.90 (+/- 0.01) [RandomForest,estimator:400]\n",
            "**************************************\n",
            "Scores 200 features\n",
            "0.90 (+/- 0.01) [RandomForest,estimator:100]\n",
            "0.90 (+/- 0.01) [RandomForest,estimator:200]\n",
            "0.90 (+/- 0.01) [RandomForest,estimator:400]\n",
            "**************************************\n",
            "Scores 400 features\n",
            "0.90 (+/- 0.01) [RandomForest,estimator:100]\n",
            "0.90 (+/- 0.01) [RandomForest,estimator:200]\n",
            "0.90 (+/- 0.01) [RandomForest,estimator:400]\n",
            "**************************************\n"
          ]
        }
      ]
    },
    {
      "cell_type": "markdown",
      "source": [
        "Random forest classifier performed better than each classifier. Since it does not take too long in terms of time, this model can be selected with parameters that give better results by changing the parameters."
      ],
      "metadata": {
        "id": "kFYhyO8gE2IV"
      }
    },
    {
      "cell_type": "markdown",
      "source": [
        "REFERENCES:\n",
        "\n",
        "https://pandas.pydata.org/docs/reference/api/pandas.DataFrame.fillna.html   => fillna methods\n",
        "\n",
        "https://stackoverflow.com/questions/43366561/use-sklearns-gridsearchcv-with-a-pipeline-preprocessing-just-once   => gridsearchcv with pipeline\n",
        "\n",
        "I benefited from lecture presentations and sample codes covered in the course."
      ],
      "metadata": {
        "id": "dKnQYVZYIVtE"
      }
    }
  ],
  "metadata": {
    "accelerator": "GPU",
    "colab": {
      "provenance": []
    },
    "gpuClass": "standard",
    "kernelspec": {
      "display_name": "Python 3 (ipykernel)",
      "language": "python",
      "name": "python3"
    },
    "language_info": {
      "codemirror_mode": {
        "name": "ipython",
        "version": 3
      },
      "file_extension": ".py",
      "mimetype": "text/x-python",
      "name": "python",
      "nbconvert_exporter": "python",
      "pygments_lexer": "ipython3",
      "version": "3.9.7"
    },
    "nteract": {
      "version": "nteract-front-end@1.0.0"
    }
  },
  "nbformat": 4,
  "nbformat_minor": 0
}